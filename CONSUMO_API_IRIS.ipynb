{
 "cells": [
  {
   "cell_type": "code",
   "execution_count": 2,
   "id": "c4771598-fbea-46d1-89dd-8c4308a349ff",
   "metadata": {
    "tags": []
   },
   "outputs": [],
   "source": [
    "import fastapi as fa\n",
    "import requests"
   ]
  },
  {
   "cell_type": "code",
   "execution_count": 5,
   "id": "e00ee5c1-ae8b-4ffc-8cb9-057393e13100",
   "metadata": {},
   "outputs": [],
   "source": [
    "prediccion = requests.get(url = \"https://demo-datathon-hcm3ijml6a-uc.a.run.app/predict_plant?sepal_lenght!=3&sepal_width=3&petal_lenght=3&petal_width=3\")"
   ]
  },
  {
   "cell_type": "code",
   "execution_count": 9,
   "id": "dc9e1319-01e7-4cf7-bfbf-e4a7f4612b6a",
   "metadata": {},
   "outputs": [
    {
     "data": {
      "text/plain": [
       "'{\"detail\":\"Not authenticated\"}'"
      ]
     },
     "execution_count": 9,
     "metadata": {},
     "output_type": "execute_result"
    }
   ],
   "source": [
    "prediccion.text"
   ]
  }
 ],
 "metadata": {
  "kernelspec": {
   "display_name": "Python 3 (ipykernel)",
   "language": "python",
   "name": "python3"
  },
  "language_info": {
   "codemirror_mode": {
    "name": "ipython",
    "version": 3
   },
   "file_extension": ".py",
   "mimetype": "text/x-python",
   "name": "python",
   "nbconvert_exporter": "python",
   "pygments_lexer": "ipython3",
   "version": "3.10.6"
  }
 },
 "nbformat": 4,
 "nbformat_minor": 5
}
