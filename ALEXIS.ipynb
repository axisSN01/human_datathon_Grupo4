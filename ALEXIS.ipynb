{
  "nbformat": 4,
  "nbformat_minor": 0,
  "metadata": {
    "colab": {
      "provenance": []
    },
    "kernelspec": {
      "name": "python3",
      "display_name": "Python 3"
    },
    "language_info": {
      "name": "python"
    }
  },
  "cells": [
    {
      "cell_type": "code",
      "execution_count": 1,
      "metadata": {
        "colab": {
          "base_uri": "https://localhost:8080/"
        },
        "id": "3nrC0OH-zkK4",
        "outputId": "0a3d6db0-4562-4d9b-95ea-e20de30f97d0"
      },
      "outputs": [
        {
          "output_type": "stream",
          "name": "stdout",
          "text": [
            "Cloning into 'human_datathon_Grupo4'...\n",
            "remote: Enumerating objects: 67, done.\u001b[K\n",
            "remote: Counting objects: 100% (67/67), done.\u001b[K\n",
            "remote: Compressing objects: 100% (48/48), done.\u001b[K\n",
            "remote: Total 67 (delta 19), reused 41 (delta 10), pack-reused 0\u001b[K\n",
            "Unpacking objects: 100% (67/67), done.\n"
          ]
        }
      ],
      "source": [
        "!git clone https://github.com/axisSN01/human_datathon_Grupo4"
      ]
    },
    {
      "cell_type": "code",
      "source": [
        "import pandas as pd\n",
        "import numpy as np"
      ],
      "metadata": {
        "id": "mcaw8hM4zsWE"
      },
      "execution_count": 35,
      "outputs": []
    },
    {
      "cell_type": "code",
      "source": [
        "schema = pd.read_excel(\"/content/human_datathon_Grupo4/data_schema.xlsx\")\n",
        "schema"
      ],
      "metadata": {
        "id": "NyVnjD6XFa5g"
      },
      "execution_count": null,
      "outputs": []
    },
    {
      "cell_type": "code",
      "source": [
        "df = pd.read_csv(\"/content/human_datathon_Grupo4/train/train_data.csv\")\n",
        "df_4060 = df.iloc[:,40:60]"
      ],
      "metadata": {
        "id": "HusoRaKmzv5q",
        "colab": {
          "base_uri": "https://localhost:8080/"
        },
        "outputId": "e2823741-9543-4188-954a-ed7638dee5c1"
      },
      "execution_count": 5,
      "outputs": [
        {
          "output_type": "stream",
          "name": "stderr",
          "text": [
            "/usr/local/lib/python3.7/dist-packages/IPython/core/interactiveshell.py:3326: DtypeWarning: Columns (2,4,5,9,30,31,32,33,34,35,36,37,38,39,40,43,47,49,50) have mixed types.Specify dtype option on import or set low_memory=False.\n",
            "  exec(code_obj, self.user_global_ns, self.user_ns)\n"
          ]
        }
      ]
    },
    {
      "cell_type": "code",
      "source": [
        "df_4060.shape"
      ],
      "metadata": {
        "colab": {
          "base_uri": "https://localhost:8080/"
        },
        "id": "WXS8Og0V0r_E",
        "outputId": "d60edb15-cac8-47b8-d737-156dd691b680"
      },
      "execution_count": 7,
      "outputs": [
        {
          "output_type": "execute_result",
          "data": {
            "text/plain": [
              "(45227, 20)"
            ]
          },
          "metadata": {},
          "execution_count": 7
        }
      ]
    },
    {
      "cell_type": "code",
      "source": [
        "df_4060.info(verbose = True)"
      ],
      "metadata": {
        "colab": {
          "base_uri": "https://localhost:8080/"
        },
        "id": "VMMKU_T3220K",
        "outputId": "567e9c4b-7b6b-480e-d229-f96375260c48"
      },
      "execution_count": 22,
      "outputs": [
        {
          "output_type": "stream",
          "name": "stdout",
          "text": [
            "<class 'pandas.core.frame.DataFrame'>\n",
            "RangeIndex: 45227 entries, 0 to 45226\n",
            "Data columns (total 20 columns):\n",
            " #   Column                                                                                                                                                          Non-Null Count  Dtype  \n",
            "---  ------                                                                                                                                                          --------------  -----  \n",
            " 0   Actividad principal                                                                                                                                             26100 non-null  object \n",
            " 1   ¿La recomendás como un buen lugar para trabajar?                                                                                                                26100 non-null  float64\n",
            " 2   ¿Cómo calificás las políticas de diversidad e inclusión?                                                                                                        26100 non-null  float64\n",
            " 3   Pagos en dólares                                                                                                                                                2191 non-null   object \n",
            " 4   ¿Cómo venís llevando la cuarentena?                                                                                                                             2202 non-null   float64\n",
            " 5   ¿Tenés hijos/as menores de edad?                                                                                                                                4454 non-null   float64\n",
            " 6   ¿Qué tipo de cuarentena hiciste / estás haciendo?                                                                                                               4454 non-null   float64\n",
            " 7   ¿Cambió tu situación laboral a raíz de la pandemia?                                                                                                             4454 non-null   object \n",
            " 8   ¿Qué tanto sentís que te está apoyando tu empresa/organización en esta situación?                                                                               4454 non-null   float64\n",
            " 9   ¿Cómo se vio afectada tu empresa/organización?                                                                                                                  4453 non-null   object \n",
            " 10  Trabajo para una empresa que no tiene oficina en mi ciudad                                                                                                      1304 non-null   object \n",
            " 11  ¿Cómo venís llevando la pandemia?                                                                                                                               2252 non-null   float64\n",
            " 12  Sufriste o presenciaste situaciones de violencia y/o acoso por motivo de                                                                                        0 non-null      float64\n",
            " 13  ¿Considerás que en tu empresa/organización hay una marcada tendencia a escuchar más a los hombres?                                                              0 non-null      float64\n",
            " 14  ¿Sentís que podés ser vos en tu trabajo?                                                                                                                        0 non-null      float64\n",
            " 15  ¿Considerás que tenés oportunidades de crecimiento siendo quien sos dentro de tu organización?                                                                  0 non-null      float64\n",
            " 16  ¿Sentís que alguna vez los prejuicios culturales/sociales sobre tu orientación, género, etnia o discapacidad pudieron obstaculizar el que consigas un trabajo?  0 non-null      float64\n",
            " 17  En el último año, en tu trabajo ¿recibiste o escuchaste comentarios que considerás inapropiados, subidos de tono y/o discriminatorios?                          0 non-null      float64\n",
            " 18  ¿Cuántas veces a la semana vas a trabajar a la oficina?                                                                                                         0 non-null      float64\n",
            " 19  Valor dólar informal semestral                                                                                                                                  45227 non-null  float64\n",
            "dtypes: float64(15), object(5)\n",
            "memory usage: 6.9+ MB\n"
          ]
        }
      ]
    },
    {
      "cell_type": "code",
      "source": [
        "df_4060.describe(include = \"all\")"
      ],
      "metadata": {
        "colab": {
          "base_uri": "https://localhost:8080/",
          "height": 753
        },
        "id": "tbm_2m5d551d",
        "outputId": "7516efb6-8aa9-472c-ffd3-3a131206edbc"
      },
      "execution_count": 24,
      "outputs": [
        {
          "output_type": "execute_result",
          "data": {
            "text/plain": [
              "                Actividad principal  \\\n",
              "count                         26100   \n",
              "unique                            3   \n",
              "top     Producto basado en Software   \n",
              "freq                           9582   \n",
              "mean                            NaN   \n",
              "std                             NaN   \n",
              "min                             NaN   \n",
              "25%                             NaN   \n",
              "50%                             NaN   \n",
              "75%                             NaN   \n",
              "max                             NaN   \n",
              "\n",
              "        ¿La recomendás como un buen lugar para trabajar?  \\\n",
              "count                                       26100.000000   \n",
              "unique                                               NaN   \n",
              "top                                                  NaN   \n",
              "freq                                                 NaN   \n",
              "mean                                            7.300000   \n",
              "std                                             2.052671   \n",
              "min                                             1.000000   \n",
              "25%                                             6.000000   \n",
              "50%                                             8.000000   \n",
              "75%                                             9.000000   \n",
              "max                                            10.000000   \n",
              "\n",
              "        ¿Cómo calificás las políticas de diversidad e inclusión?  \\\n",
              "count                                         26100.00000          \n",
              "unique                                                NaN          \n",
              "top                                                   NaN          \n",
              "freq                                                  NaN          \n",
              "mean                                              7.30318          \n",
              "std                                               2.67306          \n",
              "min                                               0.00000          \n",
              "25%                                               6.00000          \n",
              "50%                                               8.00000          \n",
              "75%                                              10.00000          \n",
              "max                                              10.00000          \n",
              "\n",
              "                                         Pagos en dólares  \\\n",
              "count                                                2191   \n",
              "unique                                                  7   \n",
              "top     Mi sueldo está dolarizado (pero cobro en moned...   \n",
              "freq                                                  801   \n",
              "mean                                                  NaN   \n",
              "std                                                   NaN   \n",
              "min                                                   NaN   \n",
              "25%                                                   NaN   \n",
              "50%                                                   NaN   \n",
              "75%                                                   NaN   \n",
              "max                                                   NaN   \n",
              "\n",
              "        ¿Cómo venís llevando la cuarentena?  ¿Tenés hijos/as menores de edad?  \\\n",
              "count                           2202.000000                       4454.000000   \n",
              "unique                                  NaN                               NaN   \n",
              "top                                     NaN                               NaN   \n",
              "freq                                    NaN                               NaN   \n",
              "mean                               3.094460                          0.364167   \n",
              "std                                0.805014                          0.720138   \n",
              "min                                1.000000                          0.000000   \n",
              "25%                                3.000000                          0.000000   \n",
              "50%                                3.000000                          0.000000   \n",
              "75%                                4.000000                          0.000000   \n",
              "max                                4.000000                          5.000000   \n",
              "\n",
              "        ¿Qué tipo de cuarentena hiciste / estás haciendo?  \\\n",
              "count                                         4454.000000   \n",
              "unique                                                NaN   \n",
              "top                                                   NaN   \n",
              "freq                                                  NaN   \n",
              "mean                                             3.065559   \n",
              "std                                              0.777932   \n",
              "min                                              1.000000   \n",
              "25%                                              3.000000   \n",
              "50%                                              3.000000   \n",
              "75%                                              4.000000   \n",
              "max                                              4.000000   \n",
              "\n",
              "       ¿Cambió tu situación laboral a raíz de la pandemia?  \\\n",
              "count                                                4454    \n",
              "unique                                                261    \n",
              "top                                                    No    \n",
              "freq                                                 2654    \n",
              "mean                                                  NaN    \n",
              "std                                                   NaN    \n",
              "min                                                   NaN    \n",
              "25%                                                   NaN    \n",
              "50%                                                   NaN    \n",
              "75%                                                   NaN    \n",
              "max                                                   NaN    \n",
              "\n",
              "        ¿Qué tanto sentís que te está apoyando tu empresa/organización en esta situación?  \\\n",
              "count                                         4454.000000                                   \n",
              "unique                                                NaN                                   \n",
              "top                                                   NaN                                   \n",
              "freq                                                  NaN                                   \n",
              "mean                                             7.462281                                   \n",
              "std                                              2.217014                                   \n",
              "min                                              1.000000                                   \n",
              "25%                                              6.000000                                   \n",
              "50%                                              8.000000                                   \n",
              "75%                                              9.000000                                   \n",
              "max                                             10.000000                                   \n",
              "\n",
              "       ¿Cómo se vio afectada tu empresa/organización?  \\\n",
              "count                                            4453   \n",
              "unique                                            405   \n",
              "top                                      No la afectó   \n",
              "freq                                             1755   \n",
              "mean                                              NaN   \n",
              "std                                               NaN   \n",
              "min                                               NaN   \n",
              "25%                                               NaN   \n",
              "50%                                               NaN   \n",
              "75%                                               NaN   \n",
              "max                                               NaN   \n",
              "\n",
              "       Trabajo para una empresa que no tiene oficina en mi ciudad  \\\n",
              "count                                                1304           \n",
              "unique                                                  1           \n",
              "top     Trabajo para una empresa que no tiene oficina ...           \n",
              "freq                                                 1304           \n",
              "mean                                                  NaN           \n",
              "std                                                   NaN           \n",
              "min                                                   NaN           \n",
              "25%                                                   NaN           \n",
              "50%                                                   NaN           \n",
              "75%                                                   NaN           \n",
              "max                                                   NaN           \n",
              "\n",
              "        ¿Cómo venís llevando la pandemia?  \\\n",
              "count                         2252.000000   \n",
              "unique                                NaN   \n",
              "top                                   NaN   \n",
              "freq                                  NaN   \n",
              "mean                             3.011545   \n",
              "std                              0.791363   \n",
              "min                              1.000000   \n",
              "25%                              3.000000   \n",
              "50%                              3.000000   \n",
              "75%                              4.000000   \n",
              "max                              4.000000   \n",
              "\n",
              "        Sufriste o presenciaste situaciones de violencia y/o acoso por motivo de  \\\n",
              "count                                                 0.0                          \n",
              "unique                                                NaN                          \n",
              "top                                                   NaN                          \n",
              "freq                                                  NaN                          \n",
              "mean                                                  NaN                          \n",
              "std                                                   NaN                          \n",
              "min                                                   NaN                          \n",
              "25%                                                   NaN                          \n",
              "50%                                                   NaN                          \n",
              "75%                                                   NaN                          \n",
              "max                                                   NaN                          \n",
              "\n",
              "        ¿Considerás que en tu empresa/organización hay una marcada tendencia a escuchar más a los hombres?  \\\n",
              "count                                                 0.0                                                    \n",
              "unique                                                NaN                                                    \n",
              "top                                                   NaN                                                    \n",
              "freq                                                  NaN                                                    \n",
              "mean                                                  NaN                                                    \n",
              "std                                                   NaN                                                    \n",
              "min                                                   NaN                                                    \n",
              "25%                                                   NaN                                                    \n",
              "50%                                                   NaN                                                    \n",
              "75%                                                   NaN                                                    \n",
              "max                                                   NaN                                                    \n",
              "\n",
              "        ¿Sentís que podés ser vos en tu trabajo?  \\\n",
              "count                                        0.0   \n",
              "unique                                       NaN   \n",
              "top                                          NaN   \n",
              "freq                                         NaN   \n",
              "mean                                         NaN   \n",
              "std                                          NaN   \n",
              "min                                          NaN   \n",
              "25%                                          NaN   \n",
              "50%                                          NaN   \n",
              "75%                                          NaN   \n",
              "max                                          NaN   \n",
              "\n",
              "        ¿Considerás que tenés oportunidades de crecimiento siendo quien sos dentro de tu organización?  \\\n",
              "count                                                 0.0                                                \n",
              "unique                                                NaN                                                \n",
              "top                                                   NaN                                                \n",
              "freq                                                  NaN                                                \n",
              "mean                                                  NaN                                                \n",
              "std                                                   NaN                                                \n",
              "min                                                   NaN                                                \n",
              "25%                                                   NaN                                                \n",
              "50%                                                   NaN                                                \n",
              "75%                                                   NaN                                                \n",
              "max                                                   NaN                                                \n",
              "\n",
              "        ¿Sentís que alguna vez los prejuicios culturales/sociales sobre tu orientación, género, etnia o discapacidad pudieron obstaculizar el que consigas un trabajo?  \\\n",
              "count                                                 0.0                                                                                                                \n",
              "unique                                                NaN                                                                                                                \n",
              "top                                                   NaN                                                                                                                \n",
              "freq                                                  NaN                                                                                                                \n",
              "mean                                                  NaN                                                                                                                \n",
              "std                                                   NaN                                                                                                                \n",
              "min                                                   NaN                                                                                                                \n",
              "25%                                                   NaN                                                                                                                \n",
              "50%                                                   NaN                                                                                                                \n",
              "75%                                                   NaN                                                                                                                \n",
              "max                                                   NaN                                                                                                                \n",
              "\n",
              "        En el último año, en tu trabajo ¿recibiste o escuchaste comentarios que considerás inapropiados, subidos de tono y/o discriminatorios?  \\\n",
              "count                                                 0.0                                                                                        \n",
              "unique                                                NaN                                                                                        \n",
              "top                                                   NaN                                                                                        \n",
              "freq                                                  NaN                                                                                        \n",
              "mean                                                  NaN                                                                                        \n",
              "std                                                   NaN                                                                                        \n",
              "min                                                   NaN                                                                                        \n",
              "25%                                                   NaN                                                                                        \n",
              "50%                                                   NaN                                                                                        \n",
              "75%                                                   NaN                                                                                        \n",
              "max                                                   NaN                                                                                        \n",
              "\n",
              "        ¿Cuántas veces a la semana vas a trabajar a la oficina?  \\\n",
              "count                                                 0.0         \n",
              "unique                                                NaN         \n",
              "top                                                   NaN         \n",
              "freq                                                  NaN         \n",
              "mean                                                  NaN         \n",
              "std                                                   NaN         \n",
              "min                                                   NaN         \n",
              "25%                                                   NaN         \n",
              "50%                                                   NaN         \n",
              "75%                                                   NaN         \n",
              "max                                                   NaN         \n",
              "\n",
              "        Valor dólar informal semestral  \n",
              "count                     45227.000000  \n",
              "unique                             NaN  \n",
              "top                                NaN  \n",
              "freq                               NaN  \n",
              "mean                         75.668934  \n",
              "std                          63.085661  \n",
              "min                          15.460000  \n",
              "25%                          17.855000  \n",
              "50%                          41.450000  \n",
              "75%                         147.500000  \n",
              "max                         188.160000  "
            ],
            "text/html": [
              "\n",
              "  <div id=\"df-24a68af9-e8d1-41e6-a8d2-efa6c5b8e27b\">\n",
              "    <div class=\"colab-df-container\">\n",
              "      <div>\n",
              "<style scoped>\n",
              "    .dataframe tbody tr th:only-of-type {\n",
              "        vertical-align: middle;\n",
              "    }\n",
              "\n",
              "    .dataframe tbody tr th {\n",
              "        vertical-align: top;\n",
              "    }\n",
              "\n",
              "    .dataframe thead th {\n",
              "        text-align: right;\n",
              "    }\n",
              "</style>\n",
              "<table border=\"1\" class=\"dataframe\">\n",
              "  <thead>\n",
              "    <tr style=\"text-align: right;\">\n",
              "      <th></th>\n",
              "      <th>Actividad principal</th>\n",
              "      <th>¿La recomendás como un buen lugar para trabajar?</th>\n",
              "      <th>¿Cómo calificás las políticas de diversidad e inclusión?</th>\n",
              "      <th>Pagos en dólares</th>\n",
              "      <th>¿Cómo venís llevando la cuarentena?</th>\n",
              "      <th>¿Tenés hijos/as menores de edad?</th>\n",
              "      <th>¿Qué tipo de cuarentena hiciste / estás haciendo?</th>\n",
              "      <th>¿Cambió tu situación laboral a raíz de la pandemia?</th>\n",
              "      <th>¿Qué tanto sentís que te está apoyando tu empresa/organización en esta situación?</th>\n",
              "      <th>¿Cómo se vio afectada tu empresa/organización?</th>\n",
              "      <th>Trabajo para una empresa que no tiene oficina en mi ciudad</th>\n",
              "      <th>¿Cómo venís llevando la pandemia?</th>\n",
              "      <th>Sufriste o presenciaste situaciones de violencia y/o acoso por motivo de</th>\n",
              "      <th>¿Considerás que en tu empresa/organización hay una marcada tendencia a escuchar más a los hombres?</th>\n",
              "      <th>¿Sentís que podés ser vos en tu trabajo?</th>\n",
              "      <th>¿Considerás que tenés oportunidades de crecimiento siendo quien sos dentro de tu organización?</th>\n",
              "      <th>¿Sentís que alguna vez los prejuicios culturales/sociales sobre tu orientación, género, etnia o discapacidad pudieron obstaculizar el que consigas un trabajo?</th>\n",
              "      <th>En el último año, en tu trabajo ¿recibiste o escuchaste comentarios que considerás inapropiados, subidos de tono y/o discriminatorios?</th>\n",
              "      <th>¿Cuántas veces a la semana vas a trabajar a la oficina?</th>\n",
              "      <th>Valor dólar informal semestral</th>\n",
              "    </tr>\n",
              "  </thead>\n",
              "  <tbody>\n",
              "    <tr>\n",
              "      <th>count</th>\n",
              "      <td>26100</td>\n",
              "      <td>26100.000000</td>\n",
              "      <td>26100.00000</td>\n",
              "      <td>2191</td>\n",
              "      <td>2202.000000</td>\n",
              "      <td>4454.000000</td>\n",
              "      <td>4454.000000</td>\n",
              "      <td>4454</td>\n",
              "      <td>4454.000000</td>\n",
              "      <td>4453</td>\n",
              "      <td>1304</td>\n",
              "      <td>2252.000000</td>\n",
              "      <td>0.0</td>\n",
              "      <td>0.0</td>\n",
              "      <td>0.0</td>\n",
              "      <td>0.0</td>\n",
              "      <td>0.0</td>\n",
              "      <td>0.0</td>\n",
              "      <td>0.0</td>\n",
              "      <td>45227.000000</td>\n",
              "    </tr>\n",
              "    <tr>\n",
              "      <th>unique</th>\n",
              "      <td>3</td>\n",
              "      <td>NaN</td>\n",
              "      <td>NaN</td>\n",
              "      <td>7</td>\n",
              "      <td>NaN</td>\n",
              "      <td>NaN</td>\n",
              "      <td>NaN</td>\n",
              "      <td>261</td>\n",
              "      <td>NaN</td>\n",
              "      <td>405</td>\n",
              "      <td>1</td>\n",
              "      <td>NaN</td>\n",
              "      <td>NaN</td>\n",
              "      <td>NaN</td>\n",
              "      <td>NaN</td>\n",
              "      <td>NaN</td>\n",
              "      <td>NaN</td>\n",
              "      <td>NaN</td>\n",
              "      <td>NaN</td>\n",
              "      <td>NaN</td>\n",
              "    </tr>\n",
              "    <tr>\n",
              "      <th>top</th>\n",
              "      <td>Producto basado en Software</td>\n",
              "      <td>NaN</td>\n",
              "      <td>NaN</td>\n",
              "      <td>Mi sueldo está dolarizado (pero cobro en moned...</td>\n",
              "      <td>NaN</td>\n",
              "      <td>NaN</td>\n",
              "      <td>NaN</td>\n",
              "      <td>No</td>\n",
              "      <td>NaN</td>\n",
              "      <td>No la afectó</td>\n",
              "      <td>Trabajo para una empresa que no tiene oficina ...</td>\n",
              "      <td>NaN</td>\n",
              "      <td>NaN</td>\n",
              "      <td>NaN</td>\n",
              "      <td>NaN</td>\n",
              "      <td>NaN</td>\n",
              "      <td>NaN</td>\n",
              "      <td>NaN</td>\n",
              "      <td>NaN</td>\n",
              "      <td>NaN</td>\n",
              "    </tr>\n",
              "    <tr>\n",
              "      <th>freq</th>\n",
              "      <td>9582</td>\n",
              "      <td>NaN</td>\n",
              "      <td>NaN</td>\n",
              "      <td>801</td>\n",
              "      <td>NaN</td>\n",
              "      <td>NaN</td>\n",
              "      <td>NaN</td>\n",
              "      <td>2654</td>\n",
              "      <td>NaN</td>\n",
              "      <td>1755</td>\n",
              "      <td>1304</td>\n",
              "      <td>NaN</td>\n",
              "      <td>NaN</td>\n",
              "      <td>NaN</td>\n",
              "      <td>NaN</td>\n",
              "      <td>NaN</td>\n",
              "      <td>NaN</td>\n",
              "      <td>NaN</td>\n",
              "      <td>NaN</td>\n",
              "      <td>NaN</td>\n",
              "    </tr>\n",
              "    <tr>\n",
              "      <th>mean</th>\n",
              "      <td>NaN</td>\n",
              "      <td>7.300000</td>\n",
              "      <td>7.30318</td>\n",
              "      <td>NaN</td>\n",
              "      <td>3.094460</td>\n",
              "      <td>0.364167</td>\n",
              "      <td>3.065559</td>\n",
              "      <td>NaN</td>\n",
              "      <td>7.462281</td>\n",
              "      <td>NaN</td>\n",
              "      <td>NaN</td>\n",
              "      <td>3.011545</td>\n",
              "      <td>NaN</td>\n",
              "      <td>NaN</td>\n",
              "      <td>NaN</td>\n",
              "      <td>NaN</td>\n",
              "      <td>NaN</td>\n",
              "      <td>NaN</td>\n",
              "      <td>NaN</td>\n",
              "      <td>75.668934</td>\n",
              "    </tr>\n",
              "    <tr>\n",
              "      <th>std</th>\n",
              "      <td>NaN</td>\n",
              "      <td>2.052671</td>\n",
              "      <td>2.67306</td>\n",
              "      <td>NaN</td>\n",
              "      <td>0.805014</td>\n",
              "      <td>0.720138</td>\n",
              "      <td>0.777932</td>\n",
              "      <td>NaN</td>\n",
              "      <td>2.217014</td>\n",
              "      <td>NaN</td>\n",
              "      <td>NaN</td>\n",
              "      <td>0.791363</td>\n",
              "      <td>NaN</td>\n",
              "      <td>NaN</td>\n",
              "      <td>NaN</td>\n",
              "      <td>NaN</td>\n",
              "      <td>NaN</td>\n",
              "      <td>NaN</td>\n",
              "      <td>NaN</td>\n",
              "      <td>63.085661</td>\n",
              "    </tr>\n",
              "    <tr>\n",
              "      <th>min</th>\n",
              "      <td>NaN</td>\n",
              "      <td>1.000000</td>\n",
              "      <td>0.00000</td>\n",
              "      <td>NaN</td>\n",
              "      <td>1.000000</td>\n",
              "      <td>0.000000</td>\n",
              "      <td>1.000000</td>\n",
              "      <td>NaN</td>\n",
              "      <td>1.000000</td>\n",
              "      <td>NaN</td>\n",
              "      <td>NaN</td>\n",
              "      <td>1.000000</td>\n",
              "      <td>NaN</td>\n",
              "      <td>NaN</td>\n",
              "      <td>NaN</td>\n",
              "      <td>NaN</td>\n",
              "      <td>NaN</td>\n",
              "      <td>NaN</td>\n",
              "      <td>NaN</td>\n",
              "      <td>15.460000</td>\n",
              "    </tr>\n",
              "    <tr>\n",
              "      <th>25%</th>\n",
              "      <td>NaN</td>\n",
              "      <td>6.000000</td>\n",
              "      <td>6.00000</td>\n",
              "      <td>NaN</td>\n",
              "      <td>3.000000</td>\n",
              "      <td>0.000000</td>\n",
              "      <td>3.000000</td>\n",
              "      <td>NaN</td>\n",
              "      <td>6.000000</td>\n",
              "      <td>NaN</td>\n",
              "      <td>NaN</td>\n",
              "      <td>3.000000</td>\n",
              "      <td>NaN</td>\n",
              "      <td>NaN</td>\n",
              "      <td>NaN</td>\n",
              "      <td>NaN</td>\n",
              "      <td>NaN</td>\n",
              "      <td>NaN</td>\n",
              "      <td>NaN</td>\n",
              "      <td>17.855000</td>\n",
              "    </tr>\n",
              "    <tr>\n",
              "      <th>50%</th>\n",
              "      <td>NaN</td>\n",
              "      <td>8.000000</td>\n",
              "      <td>8.00000</td>\n",
              "      <td>NaN</td>\n",
              "      <td>3.000000</td>\n",
              "      <td>0.000000</td>\n",
              "      <td>3.000000</td>\n",
              "      <td>NaN</td>\n",
              "      <td>8.000000</td>\n",
              "      <td>NaN</td>\n",
              "      <td>NaN</td>\n",
              "      <td>3.000000</td>\n",
              "      <td>NaN</td>\n",
              "      <td>NaN</td>\n",
              "      <td>NaN</td>\n",
              "      <td>NaN</td>\n",
              "      <td>NaN</td>\n",
              "      <td>NaN</td>\n",
              "      <td>NaN</td>\n",
              "      <td>41.450000</td>\n",
              "    </tr>\n",
              "    <tr>\n",
              "      <th>75%</th>\n",
              "      <td>NaN</td>\n",
              "      <td>9.000000</td>\n",
              "      <td>10.00000</td>\n",
              "      <td>NaN</td>\n",
              "      <td>4.000000</td>\n",
              "      <td>0.000000</td>\n",
              "      <td>4.000000</td>\n",
              "      <td>NaN</td>\n",
              "      <td>9.000000</td>\n",
              "      <td>NaN</td>\n",
              "      <td>NaN</td>\n",
              "      <td>4.000000</td>\n",
              "      <td>NaN</td>\n",
              "      <td>NaN</td>\n",
              "      <td>NaN</td>\n",
              "      <td>NaN</td>\n",
              "      <td>NaN</td>\n",
              "      <td>NaN</td>\n",
              "      <td>NaN</td>\n",
              "      <td>147.500000</td>\n",
              "    </tr>\n",
              "    <tr>\n",
              "      <th>max</th>\n",
              "      <td>NaN</td>\n",
              "      <td>10.000000</td>\n",
              "      <td>10.00000</td>\n",
              "      <td>NaN</td>\n",
              "      <td>4.000000</td>\n",
              "      <td>5.000000</td>\n",
              "      <td>4.000000</td>\n",
              "      <td>NaN</td>\n",
              "      <td>10.000000</td>\n",
              "      <td>NaN</td>\n",
              "      <td>NaN</td>\n",
              "      <td>4.000000</td>\n",
              "      <td>NaN</td>\n",
              "      <td>NaN</td>\n",
              "      <td>NaN</td>\n",
              "      <td>NaN</td>\n",
              "      <td>NaN</td>\n",
              "      <td>NaN</td>\n",
              "      <td>NaN</td>\n",
              "      <td>188.160000</td>\n",
              "    </tr>\n",
              "  </tbody>\n",
              "</table>\n",
              "</div>\n",
              "      <button class=\"colab-df-convert\" onclick=\"convertToInteractive('df-24a68af9-e8d1-41e6-a8d2-efa6c5b8e27b')\"\n",
              "              title=\"Convert this dataframe to an interactive table.\"\n",
              "              style=\"display:none;\">\n",
              "        \n",
              "  <svg xmlns=\"http://www.w3.org/2000/svg\" height=\"24px\"viewBox=\"0 0 24 24\"\n",
              "       width=\"24px\">\n",
              "    <path d=\"M0 0h24v24H0V0z\" fill=\"none\"/>\n",
              "    <path d=\"M18.56 5.44l.94 2.06.94-2.06 2.06-.94-2.06-.94-.94-2.06-.94 2.06-2.06.94zm-11 1L8.5 8.5l.94-2.06 2.06-.94-2.06-.94L8.5 2.5l-.94 2.06-2.06.94zm10 10l.94 2.06.94-2.06 2.06-.94-2.06-.94-.94-2.06-.94 2.06-2.06.94z\"/><path d=\"M17.41 7.96l-1.37-1.37c-.4-.4-.92-.59-1.43-.59-.52 0-1.04.2-1.43.59L10.3 9.45l-7.72 7.72c-.78.78-.78 2.05 0 2.83L4 21.41c.39.39.9.59 1.41.59.51 0 1.02-.2 1.41-.59l7.78-7.78 2.81-2.81c.8-.78.8-2.07 0-2.86zM5.41 20L4 18.59l7.72-7.72 1.47 1.35L5.41 20z\"/>\n",
              "  </svg>\n",
              "      </button>\n",
              "      \n",
              "  <style>\n",
              "    .colab-df-container {\n",
              "      display:flex;\n",
              "      flex-wrap:wrap;\n",
              "      gap: 12px;\n",
              "    }\n",
              "\n",
              "    .colab-df-convert {\n",
              "      background-color: #E8F0FE;\n",
              "      border: none;\n",
              "      border-radius: 50%;\n",
              "      cursor: pointer;\n",
              "      display: none;\n",
              "      fill: #1967D2;\n",
              "      height: 32px;\n",
              "      padding: 0 0 0 0;\n",
              "      width: 32px;\n",
              "    }\n",
              "\n",
              "    .colab-df-convert:hover {\n",
              "      background-color: #E2EBFA;\n",
              "      box-shadow: 0px 1px 2px rgba(60, 64, 67, 0.3), 0px 1px 3px 1px rgba(60, 64, 67, 0.15);\n",
              "      fill: #174EA6;\n",
              "    }\n",
              "\n",
              "    [theme=dark] .colab-df-convert {\n",
              "      background-color: #3B4455;\n",
              "      fill: #D2E3FC;\n",
              "    }\n",
              "\n",
              "    [theme=dark] .colab-df-convert:hover {\n",
              "      background-color: #434B5C;\n",
              "      box-shadow: 0px 1px 3px 1px rgba(0, 0, 0, 0.15);\n",
              "      filter: drop-shadow(0px 1px 2px rgba(0, 0, 0, 0.3));\n",
              "      fill: #FFFFFF;\n",
              "    }\n",
              "  </style>\n",
              "\n",
              "      <script>\n",
              "        const buttonEl =\n",
              "          document.querySelector('#df-24a68af9-e8d1-41e6-a8d2-efa6c5b8e27b button.colab-df-convert');\n",
              "        buttonEl.style.display =\n",
              "          google.colab.kernel.accessAllowed ? 'block' : 'none';\n",
              "\n",
              "        async function convertToInteractive(key) {\n",
              "          const element = document.querySelector('#df-24a68af9-e8d1-41e6-a8d2-efa6c5b8e27b');\n",
              "          const dataTable =\n",
              "            await google.colab.kernel.invokeFunction('convertToInteractive',\n",
              "                                                     [key], {});\n",
              "          if (!dataTable) return;\n",
              "\n",
              "          const docLinkHtml = 'Like what you see? Visit the ' +\n",
              "            '<a target=\"_blank\" href=https://colab.research.google.com/notebooks/data_table.ipynb>data table notebook</a>'\n",
              "            + ' to learn more about interactive tables.';\n",
              "          element.innerHTML = '';\n",
              "          dataTable['output_type'] = 'display_data';\n",
              "          await google.colab.output.renderOutput(dataTable, element);\n",
              "          const docLink = document.createElement('div');\n",
              "          docLink.innerHTML = docLinkHtml;\n",
              "          element.appendChild(docLink);\n",
              "        }\n",
              "      </script>\n",
              "    </div>\n",
              "  </div>\n",
              "  "
            ]
          },
          "metadata": {},
          "execution_count": 24
        }
      ]
    },
    {
      "cell_type": "code",
      "source": [
        "df_4060.iloc[:,0] = df_4060.iloc[:,0].fillna(\"otros\")"
      ],
      "metadata": {
        "id": "EocsLm2e6njs"
      },
      "execution_count": 44,
      "outputs": []
    },
    {
      "cell_type": "code",
      "source": [
        "df.shape[0]"
      ],
      "metadata": {
        "colab": {
          "base_uri": "https://localhost:8080/"
        },
        "id": "4a25t_Zy-tsf",
        "outputId": "5633f320-64f6-41d0-fcb4-f5756dc07a07"
      },
      "execution_count": 59,
      "outputs": [
        {
          "output_type": "execute_result",
          "data": {
            "text/plain": [
              "45227"
            ]
          },
          "metadata": {},
          "execution_count": 59
        }
      ]
    },
    {
      "cell_type": "code",
      "source": [
        "df_4060.loc[:,\"¿La recomendás como un buen lugar para trabajar?\"].isna().sum()/df.shape[0]"
      ],
      "metadata": {
        "colab": {
          "base_uri": "https://localhost:8080/"
        },
        "id": "uUkf5bfW9aFw",
        "outputId": "4d6d7315-48a6-4354-89cd-83c3529e6bee"
      },
      "execution_count": 65,
      "outputs": [
        {
          "output_type": "execute_result",
          "data": {
            "text/plain": [
              "0.42291109293121365"
            ]
          },
          "metadata": {},
          "execution_count": 65
        }
      ]
    },
    {
      "cell_type": "code",
      "source": [
        "df_4060.loc[:,\"¿Cómo calificás las políticas de diversidad e inclusión?\"].isna().sum()/df.shape[0]"
      ],
      "metadata": {
        "colab": {
          "base_uri": "https://localhost:8080/"
        },
        "id": "8pHj7RVw-z-L",
        "outputId": "b0f7e4f8-42ae-4eb2-f80f-194c741a0cdf"
      },
      "execution_count": 69,
      "outputs": [
        {
          "output_type": "execute_result",
          "data": {
            "text/plain": [
              "0.42291109293121365"
            ]
          },
          "metadata": {},
          "execution_count": 69
        }
      ]
    },
    {
      "cell_type": "code",
      "source": [
        "df_4060.loc[:,\"Pagos en dólares\"].isna().sum()/df.shape[0]"
      ],
      "metadata": {
        "colab": {
          "base_uri": "https://localhost:8080/"
        },
        "id": "_g4DhTjL8v7g",
        "outputId": "a5820bc7-1219-4421-abab-d00d522dbd00"
      },
      "execution_count": 70,
      "outputs": [
        {
          "output_type": "execute_result",
          "data": {
            "text/plain": [
              "0.9515554867667544"
            ]
          },
          "metadata": {},
          "execution_count": 70
        }
      ]
    },
    {
      "cell_type": "code",
      "source": [
        "df_4060[\"Pagos en dólares\"].where(df_4060.notnull())"
      ],
      "metadata": {
        "id": "0d3OoZRGASPn"
      },
      "execution_count": null,
      "outputs": []
    },
    {
      "cell_type": "code",
      "source": [
        "df_4060.drop(columns=\"¿Cómo venís llevando la cuarentena?\", inplace=True)"
      ],
      "metadata": {
        "id": "rtMykdwLCUk0"
      },
      "execution_count": null,
      "outputs": []
    },
    {
      "cell_type": "code",
      "source": [
        "df_4060.loc[:,\"¿Tenés hijos/as menores de edad?\"].isna().sum()/df.shape[0]"
      ],
      "metadata": {
        "colab": {
          "base_uri": "https://localhost:8080/"
        },
        "id": "eloAUYweCx_3",
        "outputId": "6cb3347c-5059-4cfe-e3ef-b3d133f151ec"
      },
      "execution_count": 87,
      "outputs": [
        {
          "output_type": "execute_result",
          "data": {
            "text/plain": [
              "0.9015190041346983"
            ]
          },
          "metadata": {},
          "execution_count": 87
        }
      ]
    },
    {
      "cell_type": "code",
      "source": [
        "df_4060.loc[:,\"¿Tenés hijos/as menores de edad?\"] = np.where(df['¿Tenés hijos/as menores de edad?'].isna(), 0, df['¿Tenés hijos/as menores de edad?'])"
      ],
      "metadata": {
        "id": "jJaw4QiqDMD4"
      },
      "execution_count": 97,
      "outputs": []
    },
    {
      "cell_type": "code",
      "source": [
        "print(df_4060.loc[:,\"¿Qué tipo de cuarentena hiciste / estás haciendo?\"].unique())\n",
        "print(df_4060.loc[:,\"¿Qué tipo de cuarentena hiciste / estás haciendo?\"].isna().sum()/df.shape[0])"
      ],
      "metadata": {
        "colab": {
          "base_uri": "https://localhost:8080/"
        },
        "id": "P_7giweOEHUH",
        "outputId": "d44cae25-1362-4ad1-d299-c4b64f2ae224"
      },
      "execution_count": 104,
      "outputs": [
        {
          "output_type": "stream",
          "name": "stdout",
          "text": [
            "[nan  4.  3.  2.  1.]\n",
            "0.9015190041346983\n"
          ]
        }
      ]
    },
    {
      "cell_type": "code",
      "source": [
        "df_4060.loc[:,\"¿Qué tipo de cuarentena hiciste / estás haciendo?\"] = np.where(df['¿Qué tipo de cuarentena hiciste / estás haciendo?'].isna(), 1, df['¿Qué tipo de cuarentena hiciste / estás haciendo?'])"
      ],
      "metadata": {
        "id": "YnzBVis-F_bJ"
      },
      "execution_count": 109,
      "outputs": []
    },
    {
      "cell_type": "code",
      "source": [
        "print(df_4060.loc[:,\"¿Cambió tu situación laboral a raíz de la pandemia?\"].unique())\n",
        "print(df_4060.loc[:,\"¿Cambió tu situación laboral a raíz de la pandemia?\"].isna().sum()/df.shape[0])\n",
        "df_4060.loc[:,\"¿Cambió tu situación laboral a raíz de la pandemia?\"].describe"
      ],
      "metadata": {
        "id": "c5t7sfgMEmfI"
      },
      "execution_count": null,
      "outputs": []
    },
    {
      "cell_type": "code",
      "source": [
        "df_4060.drop(columns=\"¿Cambió tu situación laboral a raíz de la pandemia?\", inplace=True)"
      ],
      "metadata": {
        "id": "Y84r8tOGExQm"
      },
      "execution_count": 115,
      "outputs": []
    },
    {
      "cell_type": "code",
      "source": [
        "print(df_4060.loc[:,\"¿Qué tanto sentís que te está apoyando tu empresa/organización en esta situación?\"].unique())\n",
        "print(df_4060.loc[:,\"¿Qué tanto sentís que te está apoyando tu empresa/organización en esta situación?\"].isna().sum()/df.shape[0])\n"
      ],
      "metadata": {
        "colab": {
          "base_uri": "https://localhost:8080/"
        },
        "id": "eT-fWKCpHsvz",
        "outputId": "a6cc0aeb-235a-48a1-eb2c-e6f4c5f63530"
      },
      "execution_count": 119,
      "outputs": [
        {
          "output_type": "stream",
          "name": "stdout",
          "text": [
            "[nan  8.  3.  6.  9. 10.  5.  2.  4.  7.  1.]\n",
            "0.9015190041346983\n"
          ]
        }
      ]
    },
    {
      "cell_type": "code",
      "source": [
        "df_4060.loc[:,\"¿Qué tanto sentís que te está apoyando tu empresa/organización en esta situación?\"] = \\\n",
        "np.where(df['¿Qué tanto sentís que te está apoyando tu empresa/organización en esta situación?'].isna(), \\\n",
        "         0, df['¿Qué tanto sentís que te está apoyando tu empresa/organización en esta situación?'])"
      ],
      "metadata": {
        "id": "Sp5CbrJXIHOd"
      },
      "execution_count": 120,
      "outputs": []
    },
    {
      "cell_type": "code",
      "source": [
        "df_4060[\"¿Cómo se vio afectada tu empresa/organización?\"].unique()"
      ],
      "metadata": {
        "id": "Wkh2hnoDJtLB"
      },
      "execution_count": null,
      "outputs": []
    },
    {
      "cell_type": "code",
      "source": [
        "df_4060.drop(columns=\"¿Cómo se vio afectada tu empresa/organización?\", inplace=True)"
      ],
      "metadata": {
        "id": "NzVpHpS4KMyb"
      },
      "execution_count": 126,
      "outputs": []
    },
    {
      "cell_type": "code",
      "source": [
        "df_4060[\"Trabajo para una empresa que no tiene oficina en mi ciudad\"] = np.where(df[\"Trabajo para una empresa que no tiene oficina en mi ciudad\"].isna(), 0, 1)\n",
        "df_4060[\"Trabajo para una empresa que no tiene oficina en mi ciudad\"]"
      ],
      "metadata": {
        "id": "f_qr-gbUKYIF"
      },
      "execution_count": null,
      "outputs": []
    },
    {
      "cell_type": "code",
      "source": [
        "df_4060[\"¿Cómo venís llevando la pandemia?\"] = np.where(df[\"¿Cómo venís llevando la pandemia?\"].isna(), 0, df[\"¿Cómo venís llevando la pandemia?\"])"
      ],
      "metadata": {
        "id": "TpejnkWcK-b0"
      },
      "execution_count": null,
      "outputs": []
    },
    {
      "cell_type": "code",
      "source": [
        "df_4060.drop(columns=\"Sufriste o presenciaste situaciones de violencia y/o acoso por motivo de\", inplace = True)"
      ],
      "metadata": {
        "id": "xpIuM307Lhfr"
      },
      "execution_count": 142,
      "outputs": []
    },
    {
      "cell_type": "code",
      "source": [
        "df_4060.drop(columns=\"¿Considerás que en tu empresa/organización hay una marcada tendencia a escuchar más a los hombres?\", inplace = True)"
      ],
      "metadata": {
        "id": "5eNgDVHoL-ME"
      },
      "execution_count": 146,
      "outputs": []
    }
  ]
}